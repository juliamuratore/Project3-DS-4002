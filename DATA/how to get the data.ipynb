{
 "cells": [
  {
   "cell_type": "markdown",
   "metadata": {},
   "source": [
    "# Downloading the Data\n",
    "The data can be found in the zip file [here](https://drive.google.com/file/d/1m8-EBPgi5MRubrm6iQjafK2QMHDBMSfJ/view). Download the zip file into the folder holding the **PROJECT3-DS-4002 directory**. \n",
    "\n",
    "In order to use the already provided code, use this file structure: \n"
   ]
  },
  {
   "cell_type": "code",
   "execution_count": 3,
   "metadata": {},
   "outputs": [],
   "source": [
    "# Project 3 \n",
    "# |\n",
    "# |`--PROJECT3-DS-4002\n",
    "# |   |\n",
    "# |   |`--DATA\n",
    "# |   |`--OUTPUTS\n",
    "# |    `--SCRIPTS\n",
    "#  `--celeba.zip "
   ]
  },
  {
   "cell_type": "markdown",
   "metadata": {},
   "source": [
    "# Accessing the data \n",
    "1. Unzip the celeba.zip file\n",
    "2. Open the celeba folder \n",
    "3. Unzip the img_align_celeba.zip file \n",
    "4. Once all files are unzipped, the python notebook is ready to be used"
   ]
  },
  {
   "cell_type": "markdown",
   "metadata": {},
   "source": []
  }
 ],
 "metadata": {
  "kernelspec": {
   "display_name": "ds4003",
   "language": "python",
   "name": "python3"
  },
  "language_info": {
   "codemirror_mode": {
    "name": "ipython",
    "version": 3
   },
   "file_extension": ".py",
   "mimetype": "text/x-python",
   "name": "python",
   "nbconvert_exporter": "python",
   "pygments_lexer": "ipython3",
   "version": "3.8.18"
  }
 },
 "nbformat": 4,
 "nbformat_minor": 2
}
